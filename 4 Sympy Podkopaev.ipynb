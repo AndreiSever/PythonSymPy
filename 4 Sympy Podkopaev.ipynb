{
 "cells": [
  {
   "cell_type": "code",
   "execution_count": 4,
   "metadata": {},
   "outputs": [],
   "source": [
    "from sympy import *\n",
    "init_printing(use_latex = 'mathjax')\n"
   ]
  },
  {
   "cell_type": "markdown",
   "metadata": {},
   "source": [
    "Лабораторная 1. Вариант 5. Задание 1. "
   ]
  },
  {
   "cell_type": "code",
   "execution_count": 25,
   "metadata": {},
   "outputs": [
    {
     "data": {
      "text/latex": [
       "$$7.0$$"
      ],
      "text/plain": [
       "7.00000000000000"
      ]
     },
     "execution_count": 25,
     "metadata": {},
     "output_type": "execute_result"
    }
   ],
   "source": [
    "#lab1_5_1\n",
    "expr = ((((1+Rational(1,5))/(Rational(17,40)+0.6-0.005))*1.7)/(Rational(5,6)+(Rational(1,3)+1)-(1+Rational(23,30))))+((4.75+(7+Rational(1,2)))/(33/(4+Rational(5,7))))+0.25\n",
    "expr\n"
   ]
  },
  {
   "cell_type": "markdown",
   "metadata": {},
   "source": [
    "Лабораторная 2. Вариант 11. Задание 6. "
   ]
  },
  {
   "cell_type": "code",
   "execution_count": 47,
   "metadata": {},
   "outputs": [
    {
     "data": {
      "text/latex": [
       "$$\\left [ 2\\right ]$$"
      ],
      "text/plain": [
       "[2]"
      ]
     },
     "execution_count": 47,
     "metadata": {},
     "output_type": "execute_result"
    }
   ],
   "source": [
    "#Lab 2_11_6\n",
    "x = Symbol('x', real=True)\n",
    "expr = 3*log(2,5)+2-x-log(3**x-5**(2-x),5)\n",
    "solve(expr,x)"
   ]
  },
  {
   "cell_type": "markdown",
   "metadata": {},
   "source": [
    "Лабораторная 3. Вариант 1. Задание 2. "
   ]
  },
  {
   "cell_type": "code",
   "execution_count": 37,
   "metadata": {},
   "outputs": [
    {
     "data": {
      "text/plain": [
       "'Количество вещественных решений:'"
      ]
     },
     "metadata": {},
     "output_type": "display_data"
    },
    {
     "data": {
      "text/latex": [
       "$$4$$"
      ],
      "text/plain": [
       "4"
      ]
     },
     "metadata": {},
     "output_type": "display_data"
    },
    {
     "data": {
      "text/plain": [
       "'Решение с максимальной суммой:'"
      ]
     },
     "metadata": {},
     "output_type": "display_data"
    },
    {
     "data": {
      "text/latex": [
       "$$\\left \\{ x : \\sqrt{2}, \\quad y : 0\\right \\}$$"
      ],
      "text/plain": [
       "{x: √2, y: 0}"
      ]
     },
     "metadata": {},
     "output_type": "display_data"
    },
    {
     "data": {
      "text/plain": [
       "'Максимальная сумма:'"
      ]
     },
     "metadata": {},
     "output_type": "display_data"
    },
    {
     "data": {
      "text/latex": [
       "$$\\sqrt{2}$$"
      ],
      "text/plain": [
       "√2"
      ]
     },
     "metadata": {},
     "output_type": "display_data"
    }
   ],
   "source": [
    "#Lab 3_1_2\n",
    "x = Symbol(\"x\", real=True)\n",
    "y = Symbol(\"y\", real=True)\n",
    "\n",
    "ex1 = x**2 - 3*x*y + y**2 - 2\n",
    "ex2 = 2*x**2 - x*y + 3*y**2 - 4\n",
    "res = solve((ex1,ex2))\n",
    "d = [] \n",
    "for r in res:\n",
    "    d.append(r[x] + r[y])\n",
    "    \n",
    "i = max(d)\n",
    "index = d.index(i)\n",
    "display(\"Количество вещественных решений:\", len(res))\n",
    "display(\"Решение с максимальной суммой:\", res[index])\n",
    "display(\"Максимальная сумма:\", i)"
   ]
  },
  {
   "cell_type": "code",
   "execution_count": null,
   "metadata": {},
   "outputs": [],
   "source": []
  }
 ],
 "metadata": {
  "kernelspec": {
   "display_name": "Python 3",
   "language": "python",
   "name": "python3"
  },
  "language_info": {
   "codemirror_mode": {
    "name": "ipython",
    "version": 3
   },
   "file_extension": ".py",
   "mimetype": "text/x-python",
   "name": "python",
   "nbconvert_exporter": "python",
   "pygments_lexer": "ipython3",
   "version": "3.7.1"
  }
 },
 "nbformat": 4,
 "nbformat_minor": 2
}
